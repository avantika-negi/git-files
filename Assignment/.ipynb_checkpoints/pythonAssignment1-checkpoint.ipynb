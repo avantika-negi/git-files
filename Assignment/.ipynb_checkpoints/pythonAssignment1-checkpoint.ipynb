{
 "cells": [
  {
   "cell_type": "markdown",
   "id": "a5170439-223d-43f1-98ac-f8a9da958a08",
   "metadata": {},
   "source": [
    "## PYTHON ASSIGNMENT 1"
   ]
  },
  {
   "cell_type": "markdown",
   "id": "ba7f1207-9615-4a57-84f2-58abab90cfe0",
   "metadata": {},
   "source": [
    "**Part 1 Introduction to Python**"
   ]
  },
  {
   "cell_type": "markdown",
   "id": "04f73761-dcd9-4371-901f-87a64ec1f8de",
   "metadata": {},
   "source": [
    "![label](./picc.png)\n"
   ]
  },
  {
   "cell_type": "markdown",
   "id": "279ab281-d308-4caf-b9d5-bb9751d51b37",
   "metadata": {},
   "source": [
    "**Question1-**"
   ]
  },
  {
   "cell_type": "code",
   "execution_count": 5,
   "id": "de922987-ec20-4c87-8851-e9754dc41b88",
   "metadata": {},
   "outputs": [
    {
     "name": "stdout",
     "output_type": "stream",
     "text": [
      "Name:Avantika negi \n",
      "Course Name:MCA\n",
      "python Version:3.12.4 (tags/v3.12.4:8e8a4ba, Jun  6 2024, 19:30:16) [MSC v.1940 64 bit (AMD64)]\n"
     ]
    }
   ],
   "source": [
    "import sys\n",
    "\n",
    "  #Define the details\n",
    "name=\"Avantika negi \"\n",
    "courseName=\"MCA\"\n",
    "python_version=sys.version\n",
    "\n",
    "  #Print the details \n",
    "print(f\"Name:{name}\")\n",
    "print(f\"Course Name:{courseName}\")\n",
    "print(f\"python Version:{python_version}\")"
   ]
  },
  {
   "cell_type": "markdown",
   "id": "477ae8a4-8b0c-45bb-852b-1e29370d724e",
   "metadata": {},
   "source": [
    "**Question2-**"
   ]
  },
  {
   "cell_type": "code",
   "execution_count": 6,
   "id": "af1f4c84-157d-451c-9a54-aa2f0b3db1c9",
   "metadata": {},
   "outputs": [
    {
     "name": "stdout",
     "output_type": "stream",
     "text": [
      "Hello , Python World\n"
     ]
    }
   ],
   "source": [
    "str1=\"Hello , Python World\"\n",
    "print(str1)"
   ]
  },
  {
   "cell_type": "markdown",
   "id": "985b6b63-dfca-4894-9692-b77d6c272447",
   "metadata": {},
   "source": [
    "**Part 2 Basic Python syntex**"
   ]
  },
  {
   "cell_type": "markdown",
   "id": "69e0e5c1-bbf4-40d6-8ddc-0d1e2cc7a1f6",
   "metadata": {},
   "source": [
    "**Question1-**"
   ]
  },
  {
   "cell_type": "code",
   "execution_count": 13,
   "id": "16c9c6e8-a75b-47ca-b1e2-292932b7e33c",
   "metadata": {},
   "outputs": [
    {
     "name": "stdin",
     "output_type": "stream",
     "text": [
      "Input your First Name :  Avantika\n",
      "Input your Last Name :  Negi\n"
     ]
    },
    {
     "name": "stdout",
     "output_type": "stream",
     "text": [
      "igeN akitnavA\n"
     ]
    }
   ],
   "source": [
    "# taking the input from the user for first name and store it in the 'fname' variable\n",
    "first_name = input(\"Input your First Name : \")\n",
    "\n",
    "#  takinh input for last name and store it in the 'lname' variable\n",
    "last_name = input(\"Input your Last Name : \")\n",
    "\n",
    "# Display a message with the last name followed by the first name\n",
    "full_name =first_name + \" \" + last_name\n",
    "print(full_name[ : :-1])"
   ]
  },
  {
   "cell_type": "markdown",
   "id": "6765c0d5-b23c-4f09-af80-a6cb9544f20a",
   "metadata": {},
   "source": [
    "**Question2-**"
   ]
  },
  {
   "cell_type": "code",
   "execution_count": 14,
   "id": "fbe62664-ca10-405b-8a07-e48ea8964605",
   "metadata": {},
   "outputs": [
    {
     "name": "stdout",
     "output_type": "stream",
     "text": [
      "Data type of num_string after Type Casting: <class 'int'> 20\n",
      "Data type of num_string after Type Casting: <class 'float'> 20.0\n",
      "Data type of num_string after Type Casting: <class 'complex'> (20+0j)\n"
     ]
    }
   ],
   "source": [
    "num_string = \"20\"\n",
    "\n",
    "num_string1 = int(num_string)\n",
    "num_string2=float(num_string)\n",
    "num_string3=complex(num_string)\n",
    "\n",
    "print(\"Data type of num_string after Type Casting:\",type(num_string1) , num_string1)\n",
    "\n",
    "print(\"Data type of num_string after Type Casting:\",type(num_string2) , num_string2)\n",
    "\n",
    "print(\"Data type of num_string after Type Casting:\",type(num_string3), num_string3)\n"
   ]
  },
  {
   "cell_type": "markdown",
   "id": "9a90573c-a780-4314-ade2-40c2cf4f177c",
   "metadata": {},
   "source": [
    "**Question3-**"
   ]
  },
  {
   "cell_type": "code",
   "execution_count": 15,
   "id": "b5e3f931-9226-4857-963b-1969cb6bc35a",
   "metadata": {},
   "outputs": [
    {
     "name": "stdin",
     "output_type": "stream",
     "text": [
      "Enter length=  6\n",
      "Enter width=  9\n"
     ]
    },
    {
     "name": "stdout",
     "output_type": "stream",
     "text": [
      "Rectangle area =  54\n"
     ]
    }
   ],
   "source": [
    "#taking input in length variable \n",
    "length=int(input(\"Enter length= \"))\n",
    "\n",
    "#taking input in breadth variable\n",
    "breadth=int(input(\"Enter width= \"))\n",
    "\n",
    "area=length*breadth\n",
    "print(\"Rectangle area = \",area)"
   ]
  },
  {
   "cell_type": "markdown",
   "id": "1f6b779c-27ac-4c9f-8e15-05d54d25d319",
   "metadata": {},
   "source": [
    "**Question4-**"
   ]
  },
  {
   "cell_type": "code",
   "execution_count": 16,
   "id": "fd45e3c2-57ea-4346-9f32-06c89011e063",
   "metadata": {},
   "outputs": [
    {
     "name": "stdout",
     "output_type": "stream",
     "text": [
      "The area of the rectangle is: 54.00\n"
     ]
    }
   ],
   "source": [
    "# Display the result using the print function with two decimal places\n",
    "print(\"The area of the rectangle is: {:.2f}\".format(area))"
   ]
  },
  {
   "cell_type": "markdown",
   "id": "2901ad5c-f5a7-45c0-92c5-1ff652b3bc8e",
   "metadata": {},
   "source": [
    "**Question5-**"
   ]
  },
  {
   "cell_type": "code",
   "execution_count": 17,
   "id": "6fd77915-23d5-4a63-900f-16ae9a3c5f8d",
   "metadata": {},
   "outputs": [
    {
     "name": "stdin",
     "output_type": "stream",
     "text": [
      "Enter the first number:  8\n",
      "Enter the second number:  5\n",
      "Enter the third number:  3\n"
     ]
    },
    {
     "name": "stdout",
     "output_type": "stream",
     "text": [
      "The average of the three numbers is: 5.33\n"
     ]
    }
   ],
   "source": [
    "# Prompt the user to enter three numbers\n",
    "num1 = float(input(\"Enter the first number: \"))\n",
    "num2 = float(input(\"Enter the second number: \"))\n",
    "num3 = float(input(\"Enter the third number: \"))\n",
    "\n",
    "# Calculate the average\n",
    "average = (num1 + num2 + num3) / 3\n",
    "\n",
    "# Display the result using the % formatting method\n",
    "print(\"The average of the three numbers is: %.2f\" % average)"
   ]
  },
  {
   "cell_type": "markdown",
   "id": "8507967f-3eac-491e-9d88-68fca86503d1",
   "metadata": {},
   "source": [
    "**Part 3 Language components**"
   ]
  },
  {
   "cell_type": "markdown",
   "id": "1e6d2c2b-6fd8-4130-925f-43ea78d4f4e1",
   "metadata": {},
   "source": [
    "**Question1-**"
   ]
  },
  {
   "cell_type": "code",
   "execution_count": 18,
   "id": "65141804-6aa4-4a5c-889e-b28794056fd7",
   "metadata": {},
   "outputs": [
    {
     "name": "stdin",
     "output_type": "stream",
     "text": [
      "Enter a number (or type 'exit' to quit):  7\n"
     ]
    },
    {
     "name": "stdout",
     "output_type": "stream",
     "text": [
      "The number is positive.\n"
     ]
    },
    {
     "name": "stdin",
     "output_type": "stream",
     "text": [
      "Enter a number (or type 'exit' to quit):  -8\n"
     ]
    },
    {
     "name": "stdout",
     "output_type": "stream",
     "text": [
      "The number is negative.\n"
     ]
    },
    {
     "name": "stdin",
     "output_type": "stream",
     "text": [
      "Enter a number (or type 'exit' to quit):  9.7\n"
     ]
    },
    {
     "name": "stdout",
     "output_type": "stream",
     "text": [
      "The number is positive.\n"
     ]
    },
    {
     "name": "stdin",
     "output_type": "stream",
     "text": [
      "Enter a number (or type 'exit' to quit):  0\n"
     ]
    },
    {
     "name": "stdout",
     "output_type": "stream",
     "text": [
      "The number is zero.\n"
     ]
    },
    {
     "name": "stdin",
     "output_type": "stream",
     "text": [
      "Enter a number (or type 'exit' to quit):  exit\n"
     ]
    }
   ],
   "source": [
    "while True:\n",
    "    user_input = input(\"Enter a number (or type 'exit' to quit): \")\n",
    "\n",
    "    # Check if the user wants to exit\n",
    "    if user_input.lower() == 'exit':\n",
    "        break\n",
    "\n",
    "    # Convert input to a number\n",
    "    try:\n",
    "        number = float(user_input)\n",
    "        # Determine if the number is positive, negative, or zero\n",
    "        if number > 0:\n",
    "            print(\"The number is positive.\")\n",
    "        elif number < 0:\n",
    "            print(\"The number is negative.\")\n",
    "        else:\n",
    "            print(\"The number is zero.\")\n",
    "    except ValueError:\n",
    "        print(\"Please enter a valid number or 'exit' to quit.\")\n",
    "    continue  # Prompt for a new number if input is not 'exit'"
   ]
  },
  {
   "cell_type": "markdown",
   "id": "44acb74d-ac3a-44f6-b15b-bb2d9da6589a",
   "metadata": {},
   "source": [
    "**Question2-**"
   ]
  },
  {
   "cell_type": "code",
   "execution_count": 19,
   "id": "8cceb6e6-f5f6-448d-9ff8-39d0accc0647",
   "metadata": {},
   "outputs": [
    {
     "name": "stdin",
     "output_type": "stream",
     "text": [
      "Enter the first number:  82\n",
      "Enter the second number:  10\n"
     ]
    },
    {
     "name": "stdout",
     "output_type": "stream",
     "text": [
      "Both numbers are even.\n"
     ]
    }
   ],
   "source": [
    "# Input two numbers from the user\n",
    "first_number = int(input(\"Enter the first number: \"))\n",
    "second_number = int(input(\"Enter the second number: \"))\n",
    "\n",
    "# Check whether both numbers are even, odd, or one of each using relational and logical operator\n",
    "if first_number % 2 == 0 and second_number % 2 == 0:\n",
    "    print(\"Both numbers are even.\")\n",
    "elif first_number % 2 != 0 and second_number % 2 != 0:\n",
    "    print(\"Both numbers are odd.\")\n",
    "else:\n",
    "    print(\"One number is even and the other is odd.\")"
   ]
  },
  {
   "cell_type": "markdown",
   "id": "5ffabe28-3f72-4a74-a587-e9da4e92f30a",
   "metadata": {},
   "source": [
    "**question3**"
   ]
  },
  {
   "cell_type": "code",
   "execution_count": 20,
   "id": "d2db1284-9736-4707-8fa5-d8e852962dc5",
   "metadata": {},
   "outputs": [
    {
     "name": "stdin",
     "output_type": "stream",
     "text": [
      "Enter an integer:  45\n"
     ]
    },
    {
     "name": "stdout",
     "output_type": "stream",
     "text": [
      "Binary: 101101\n",
      "Octal: 13\n",
      "Hexadecimal: 16\n"
     ]
    }
   ],
   "source": [
    "#Function to convert a number to binary, octal, and hexadecimal using bitwise operations\n",
    "def convert_number(num):\n",
    "    # Binary conversion\n",
    "    binary = ''\n",
    "    for i in range(num.bit_length(), -1, -1):\n",
    "        binary += '1' if (num >> i) & 1 else '0'\n",
    "    binary = binary.lstrip('0') or '0'  # Remove leading zeros\n",
    "\n",
    "    # Octal conversion\n",
    "    octal = ''\n",
    "    for i in range(num.bit_length() - 1, -1, -3):  # Group by 3 bits for octal\n",
    "        octal_digit = (num >> i) & 7  # Extract 3 bits at a time\n",
    "        octal += str(octal_digit)\n",
    "    octal = octal.lstrip('0') or '0'  # Remove leading zeros\n",
    "\n",
    "    # Hexadecimal conversion\n",
    "    hex_digits = \"0123456789ABCDEF\"\n",
    "    hexadecimal = ''\n",
    "    for i in range(num.bit_length() - 1, -1, -4):  # Group by 4 bits for hexadecimal\n",
    "        hex_digit = (num >> i) & 15  # Extract 4 bits at a time\n",
    "        hexadecimal += hex_digits[hex_digit]\n",
    "    hexadecimal = hexadecimal.lstrip('0') or '0'  # Remove leading zeros\n",
    "\n",
    "    print(f\"Binary: {binary}\")\n",
    "    print(f\"Octal: {octal}\")\n",
    "    print(f\"Hexadecimal: {hexadecimal}\")\n",
    "\n",
    "# Take integer input from the user\n",
    "number = int(input(\"Enter an integer: \"))\n",
    "convert_number(number)"
   ]
  },
  {
   "cell_type": "code",
   "execution_count": null,
   "id": "3798f2cf-8ef5-469a-9b2f-7a8923863fcc",
   "metadata": {},
   "outputs": [],
   "source": []
  }
 ],
 "metadata": {
  "kernelspec": {
   "display_name": "Python 3 (ipykernel)",
   "language": "python",
   "name": "python3"
  },
  "language_info": {
   "codemirror_mode": {
    "name": "ipython",
    "version": 3
   },
   "file_extension": ".py",
   "mimetype": "text/x-python",
   "name": "python",
   "nbconvert_exporter": "python",
   "pygments_lexer": "ipython3",
   "version": "3.12.4"
  }
 },
 "nbformat": 4,
 "nbformat_minor": 5
}
