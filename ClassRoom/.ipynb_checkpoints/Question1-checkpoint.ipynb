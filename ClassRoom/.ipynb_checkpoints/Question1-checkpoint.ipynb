{
 "cells": [
  {
   "cell_type": "code",
   "execution_count": 1,
   "id": "01715176-6d92-4169-bcd7-95fde6ed1b35",
   "metadata": {},
   "outputs": [
    {
     "name": "stdin",
     "output_type": "stream",
     "text": [
      "How many integer values would you like to enter?  3\n",
      "Enter integer value 1:  10\n",
      "Enter integer value 2:  44\n",
      "Enter integer value 3:  70\n"
     ]
    },
    {
     "name": "stdout",
     "output_type": "stream",
     "text": [
      "\n",
      "Statistics:\n",
      "Sum: 124\n",
      "Average: 41.333333333333336\n",
      "Minimum: 10\n",
      "Maximum: 70\n",
      "Cumulative Sum: [10, 54, 124]\n"
     ]
    }
   ],
   "source": [
    "def get_user_input():\n",
    "    \"\"\"\n",
    "    Prompts the user to enter a number of integer values and returns them as a list.\n",
    "    \"\"\"\n",
    "    while True:\n",
    "        try:\n",
    "            num_values = int(input(\"How many integer values would you like to enter? \"))\n",
    "            if num_values <= 0:\n",
    "                print(\"Please enter a positive integer.\")\n",
    "                continue\n",
    "            break\n",
    "        except ValueError:\n",
    "            print(\"Invalid input. Please enter an integer.\")\n",
    "    \n",
    "    values = []\n",
    "    for i in range(num_values):\n",
    "        while True:\n",
    "            try:\n",
    "                value = int(input(f\"Enter integer value {i + 1}: \"))\n",
    "                values.append(value)\n",
    "                break\n",
    "            except ValueError:\n",
    "                print(\"Invalid input. Please enter an integer.\")\n",
    "    \n",
    "    return values\n",
    "\n",
    "def compute_statistics(numbers):\n",
    "    \"\"\"\n",
    "    Computes and returns the sum, average, minimum, maximum, and cumulative sum of a list of numbers.\n",
    "    \"\"\"\n",
    "    if not numbers:\n",
    "        return None, None, None, None, None\n",
    "    \n",
    "    total_sum = sum(numbers)\n",
    "    average = total_sum / len(numbers)\n",
    "    minimum = min(numbers)\n",
    "    maximum = max(numbers)\n",
    "    \n",
    "    cumulative_sum = []\n",
    "    running_total = 0\n",
    "    for number in numbers:\n",
    "        running_total += number\n",
    "        cumulative_sum.append(running_total)\n",
    "    \n",
    "    return total_sum, average, minimum, maximum, cumulative_sum\n",
    "\n",
    "# Main program execution\n",
    "if __name__ == \"__main__\":\n",
    "    # Get user input\n",
    "    user_values = get_user_input()\n",
    "    \n",
    "    # Compute statistics\n",
    "    total_sum, average, minimum, maximum, cumulative_sum = compute_statistics(user_values)\n",
    "    \n",
    "    # Display results\n",
    "    print(\"\\nStatistics:\")\n",
    "    print(f\"Sum: {total_sum}\")\n",
    "    print(f\"Average: {average}\")\n",
    "    print(f\"Minimum: {minimum}\")\n",
    "    print(f\"Maximum: {maximum}\")\n",
    "    print(f\"Cumulative Sum: {cumulative_sum}\")"
   ]
  },
  {
   "cell_type": "code",
   "execution_count": null,
   "id": "4b63631e-c803-449b-8378-225d5646d705",
   "metadata": {},
   "outputs": [],
   "source": []
  }
 ],
 "metadata": {
  "kernelspec": {
   "display_name": "Python 3 (ipykernel)",
   "language": "python",
   "name": "python3"
  },
  "language_info": {
   "codemirror_mode": {
    "name": "ipython",
    "version": 3
   },
   "file_extension": ".py",
   "mimetype": "text/x-python",
   "name": "python",
   "nbconvert_exporter": "python",
   "pygments_lexer": "ipython3",
   "version": "3.12.4"
  }
 },
 "nbformat": 4,
 "nbformat_minor": 5
}
